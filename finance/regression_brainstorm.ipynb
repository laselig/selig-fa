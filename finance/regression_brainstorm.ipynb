{
 "cells": [
  {
   "cell_type": "code",
   "execution_count": 1,
   "metadata": {},
   "outputs": [
    {
     "name": "stdout",
     "output_type": "stream",
     "text": [
      "  symbol       date  stockPrice  numberOfShares  marketCapitalization  \\\n",
      "0    NBB 2015-09-30   19.650000      26460000.0          5.199390e+08   \n",
      "1    NBB 2016-03-31   21.590000      26460000.0          5.712714e+08   \n",
      "2    NBB 2016-09-30   22.680000      26460000.0          6.001128e+08   \n",
      "3    NBB 2017-03-31   20.900000      26460000.0          5.530140e+08   \n",
      "4    NBB 2017-09-30   21.469999      26461990.0          5.681389e+08   \n",
      "\n",
      "   minusCashAndCashEquivalents  addTotalDebt  enterpriseValue period  \\\n",
      "0                          0.0   144800000.0     6.647390e+08     Q2   \n",
      "1                          0.0   142600000.0     7.138714e+08     Q4   \n",
      "2                          0.0   137900000.0     7.380128e+08     Q2   \n",
      "3                          0.0   137900000.0     6.909140e+08     Q4   \n",
      "4                         17.0           0.0     5.681389e+08     Q2   \n",
      "\n",
      "   currentRatio  ...  priceToSalesRatio  priceEarningsRatio  \\\n",
      "0           0.0  ...          25.400048           -4.348770   \n",
      "1           0.0  ...          28.520789            3.739666   \n",
      "2           0.0  ...          30.493537            3.662798   \n",
      "3           0.0  ...          27.915901           -5.497157   \n",
      "4           0.0  ...          28.911494            3.924750   \n",
      "\n",
      "   priceToFreeCashFlowsRatio  priceToOperatingCashFlowsRatio  \\\n",
      "0                  26.527499                       26.527499   \n",
      "1                  28.707106                       28.707106   \n",
      "2                  27.032108                       27.032108   \n",
      "3                  32.917499                       32.917499   \n",
      "4                  34.832368                       34.832368   \n",
      "\n",
      "   priceCashFlowRatio  priceEarningsToGrowthRatio  priceSalesRatio  \\\n",
      "0           26.527499                   -9.494920        25.400048   \n",
      "1           28.707106                    8.165028        28.520789   \n",
      "2           27.032108                    7.997197        30.493537   \n",
      "3           32.917499                  -12.002259        27.915901   \n",
      "4           34.832368                    8.569776        28.911494   \n",
      "\n",
      "   dividendYield  enterpriseValueMultiple  priceFairValue  \n",
      "0       0.034619                -8.627372        0.921551  \n",
      "1       0.031159                11.971682        0.977200  \n",
      "2       0.029161                11.221116        0.986703  \n",
      "3       0.030198               -10.391247        0.976367  \n",
      "4       0.028778                10.049762        0.969078  \n",
      "\n",
      "[5 rows x 63 columns]\n"
     ]
    }
   ],
   "source": [
    "import pandas as pd\n",
    "\n",
    "df = pd.read_parquet(\"/home/lselig/selig-fa/finance/.data/evs_ratios.parquet\")\n",
    "print(df.head())"
   ]
  }
 ],
 "metadata": {
  "kernelspec": {
   "display_name": "Python 3.10.4 64-bit",
   "language": "python",
   "name": "python3"
  },
  "language_info": {
   "codemirror_mode": {
    "name": "ipython",
    "version": 3
   },
   "file_extension": ".py",
   "mimetype": "text/x-python",
   "name": "python",
   "nbconvert_exporter": "python",
   "pygments_lexer": "ipython3",
   "version": "3.10.4"
  },
  "orig_nbformat": 4,
  "vscode": {
   "interpreter": {
    "hash": "916dbcbb3f70747c44a77c7bcd40155683ae19c65e1c03b4aa3499c5328201f1"
   }
  }
 },
 "nbformat": 4,
 "nbformat_minor": 2
}
