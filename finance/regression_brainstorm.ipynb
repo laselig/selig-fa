{
 "cells": [
  {
   "cell_type": "code",
   "execution_count": 2,
   "metadata": {},
   "outputs": [
    {
     "name": "stdout",
     "output_type": "stream",
     "text": [
      "      symbol       date  stockPrice  numberOfShares  marketCapitalization  \\\n",
      "index                                                                       \n",
      "0          A 2000-01-31   47.344421     439000000.0          2.078420e+10   \n",
      "1          A 2000-04-30   68.222458     452000000.0          3.083655e+10   \n",
      "2          A 2000-07-31   29.148785     453000000.0          1.320440e+10   \n",
      "3          A 2000-10-31   33.127682     455000000.0          1.507310e+10   \n",
      "4          A 2001-01-31   39.020027     455000000.0          1.775411e+10   \n",
      "\n",
      "       minusCashAndCashEquivalents  addTotalDebt  enterpriseValue period  \\\n",
      "index                                                                      \n",
      "0                     1.368000e+09   997000000.0     2.041320e+10     Q1   \n",
      "1                     9.780000e+08    98000000.0     2.995655e+10     Q2   \n",
      "2                     7.030000e+08   129000000.0     1.263040e+10     Q3   \n",
      "3                     9.960000e+08   110000000.0     1.418710e+10     Q4   \n",
      "4                     4.330000e+08   556000000.0     1.787711e+10     Q1   \n",
      "\n",
      "       currentRatio  ...  priceToSalesRatio  priceEarningsRatio  \\\n",
      "index                ...                                          \n",
      "0          2.410256  ...           9.253874           39.664506   \n",
      "1          2.313358  ...          12.409075           46.440589   \n",
      "2          2.129084  ...           4.945468           21.297418   \n",
      "3          2.050399  ...           4.470076           12.354996   \n",
      "4          1.778827  ...           6.249248           28.821611   \n",
      "\n",
      "       priceToFreeCashFlowsRatio  priceToOperatingCashFlowsRatio  \\\n",
      "index                                                              \n",
      "0                      70.935840                       54.125523   \n",
      "1                    -182.464799                     -811.488183   \n",
      "2                     -84.104455                      191.368108   \n",
      "3                     320.704153                       35.633795   \n",
      "4                     -47.984088                      -90.122398   \n",
      "\n",
      "       priceCashFlowRatio  priceEarningsToGrowthRatio  priceSalesRatio  \\\n",
      "index                                                                    \n",
      "0               54.125523                   -4.363096         9.253874   \n",
      "1             -811.488183                    1.990311        12.409075   \n",
      "2              191.368108                   -2.626682         4.945468   \n",
      "3               35.633795                    0.127294         4.470076   \n",
      "4              -90.122398                   -0.585166         6.249248   \n",
      "\n",
      "       dividendYield  enterpriseValueMultiple  priceFairValue  \n",
      "index                                                          \n",
      "0                NaN                68.500674        4.633126  \n",
      "1                NaN                83.444432        6.642945  \n",
      "2                NaN                32.891665        2.693676  \n",
      "3                NaN                22.956465        2.862886  \n",
      "4                NaN                43.391049        3.204135  \n",
      "\n",
      "[5 rows x 63 columns]\n",
      "index\n",
      "0      9.253874\n",
      "1     12.409075\n",
      "2      4.945468\n",
      "3      4.470076\n",
      "4      6.249248\n",
      "        ...    \n",
      "85    26.640367\n",
      "86    29.274079\n",
      "87    28.668180\n",
      "88    25.050969\n",
      "89    22.191493\n",
      "Name: priceSalesRatio, Length: 90, dtype: float64\n"
     ]
    }
   ],
   "source": [
    "import pandas as pd\n",
    "\n",
    "df = pd.read_parquet(\"C:\\\\Users\\\\lselig\\\\selig-fa\\\\finance\\\\.data\\\\evs_ratios.parquet\")\n",
    "print(df.head())"
   ]
  }
 ],
 "metadata": {
  "kernelspec": {
   "display_name": "Python 3.9.5 ('.venv': poetry)",
   "language": "python",
   "name": "python3"
  },
  "language_info": {
   "codemirror_mode": {
    "name": "ipython",
    "version": 3
   },
   "file_extension": ".py",
   "mimetype": "text/x-python",
   "name": "python",
   "nbconvert_exporter": "python",
   "pygments_lexer": "ipython3",
   "version": "3.9.5"
  },
  "orig_nbformat": 4,
  "vscode": {
   "interpreter": {
    "hash": "87f4a1bc75633a3ce313b337f8412d9265ee8b5e5a21bcd5bca49bf858097b07"
   }
  }
 },
 "nbformat": 4,
 "nbformat_minor": 2
}
