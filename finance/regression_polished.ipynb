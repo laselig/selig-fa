{
 "cells": [
  {
   "cell_type": "code",
   "execution_count": null,
   "metadata": {},
   "outputs": [],
   "source": [
    "import pandas as pd\n",
    "import numpy as np\n",
    "import seaborn as sns\n",
    "import matplotlib.pyplot as plt\n",
    "import glob, os, random\n",
    "from pathlib import Path\n",
    "from sklearn.linear_model import LinearRegression, Ridge, SGDRegressor\n",
    "from sklearn.model_selection import train_test_split\n",
    "from sklearn.metrics import r2_score, mean_squared_error, mean_absolute_error, mean_squared_error, mean_absolute_percentage_error\n",
    "from sklearn.preprocessing import StandardScaler, RobustScaler, MinMaxScaler\n",
    "from sklearn.model_selection import GridSearchCV\n",
    "from sklearn.model_selection import RandomizedSearchCV\n",
    "from sklearn.ensemble import RandomForestRegressor\n",
    "from scipy.stats import uniform\n",
    "import joblib\n",
    "np.random.seed(0)\n",
    "sns.set_style(\"darkgrid\")\n",
    "\n",
    "orig = pd.read_parquet(\"/Users/lselig/selig-fa/finance/.data/evs_ratios.parquet\")\n",
    "print(orig.shape)\n",
    "for c in orig:\n",
    "    print(c)\n",
    "features = pd.read_parquet(\"/Users/lselig/selig-fa/finance/.data/evs_ratios_preprocessed.parquet\")\n",
    "features = features.drop(columns = [\"marketCapitalization\", \"enterpriseValue\"])\n",
    "meta_cols = [\"stockPrice\", \"date\", \"year\",\n",
    "             \"symbol\", \"quarter\", \"cik\", \"isEtf\", \"isActivelyTrading\", \"isFund\", \"country\", \"ipoDate\"]\n",
    "\n",
    "\n",
    "holdout = features[features.year == 2022]\n",
    "features = features[features.year != 2022]\n",
    "\n",
    "holdout_meta = holdout[meta_cols]\n",
    "features_meta = features[meta_cols]\n",
    "\n",
    "labels_holdout = np.log10(holdout.stockPrice.values)\n",
    "labels = np.log10(features.stockPrice.values)\n",
    "\n",
    "holdout = holdout.drop(columns = meta_cols)\n",
    "features = features.drop(columns = meta_cols)\n",
    "\n",
    "\n"
   ]
  },
  {
   "cell_type": "code",
   "execution_count": null,
   "metadata": {},
   "outputs": [],
   "source": [
    "np.random.seed(1)\n",
    "X_train, X_test, y_train, y_test = train_test_split(features, labels, train_size = 0.99)\n",
    "print(X_train.shape, X_test.shape, y_train.shape, y_test.shape)\n",
    "y_train = y_train.reshape(-1, 1)\n",
    "\n",
    "scaler_X = StandardScaler()\n",
    "scaler_y = StandardScaler()\n",
    "\n",
    "scaler_X.fit(X_train)\n",
    "scaler_y.fit(y_train)\n",
    "\n",
    "X_train = scaler_X.transform(X_train)\n",
    "y_train = scaler_y.transform(y_train)\n",
    "X_test = scaler_X.transform(X_test)"
   ]
  },
  {
   "cell_type": "code",
   "execution_count": null,
   "metadata": {},
   "outputs": [],
   "source": [
    "model = Ridge()\n",
    "cv = 10\n",
    "alphas_ = [10 ** i for i in range(-5, 5)]\n",
    "print(alphas_)\n",
    "param_grid = {\"alpha\": alphas_}\n",
    "search = GridSearchCV(model, param_grid, scoring = \"r2\", n_jobs = -1, cv=cv, verbose = 3)\n",
    "result = search.fit(X_train, y_train)\n",
    "alpha_opt = search.best_params_[\"alpha\"]\n",
    "\n",
    "print(f\"{alpha_opt = }\")\n",
    "print(f\"{result.cv_results_['mean_test_score']}\")"
   ]
  },
  {
   "cell_type": "code",
   "execution_count": null,
   "metadata": {},
   "outputs": [],
   "source": [
    "\n",
    "# model = RandomForestRegressor()\n",
    "# cv = 10\n",
    "# param_grid = {\"criterion\": [\"squared_error\", \"absolute_error\"],\n",
    "#               \"max_depth\": [5, 6, 7, 8, 9, 10],\n",
    "#               \"n_estimators\": [100, 200, 500]\n",
    "#               }\n",
    "# reg = RandomizedSearchCV(model, param_grid, scoring = \"r2\", n_jobs = -1, cv = cv, verbose = 10)\n",
    "# search = reg.fit(X_train, y_train.ravel())\n",
    "# print(search.best_params_)\n",
    "# joblib.dump(search, \"/Users/lselig/selig-fa/finance/.data/random_forest.pkl\")\n",
    "# # search = joblib.load(\"/Users/lselig/selig-fa/finance/.data/ridge.pkl\")"
   ]
  },
  {
   "cell_type": "code",
   "execution_count": null,
   "metadata": {},
   "outputs": [],
   "source": [
    "model = Ridge(alpha = 1)\n",
    "model = model.fit(X_train, y_train)\n",
    "# joblib.dump(model, \"/Users/lselig/selig-fa/finance/.data/ridge.pkl\")\n",
    "# model = joblib.load(\"/Users/lselig/selig-fa/finance/.data/ridge.pkl\")\n",
    "pred = model.predict(X_test)\n",
    "pred = scaler_y.inverse_transform(pred).ravel()\n",
    "true = y_test\n",
    "\n",
    "pred = 10 ** pred\n",
    "true = 10 ** true\n",
    "print(model.score(X_test, scaler_y.transform(y_test.reshape(-1, 1))))\n",
    "print(model.coef_)\n",
    "print(list(features))\n",
    "# print(pred)\n",
    "# print(true)\n",
    "print(np.corrcoef(pred, true)[0, 1])\n",
    "\n",
    "\n",
    "plt.hist2d(pred, true, bins = 450)\n",
    "plt.xlim(0, 100)\n",
    "plt.ylim(0, 100)\n",
    "# plt.scatter(pred, true)\n",
    "plt.show()\n"
   ]
  },
  {
   "cell_type": "code",
   "execution_count": null,
   "metadata": {},
   "outputs": [],
   "source": [
    "pred = model.predict(scaler_X.transform(holdout))\n",
    "pred = scaler_y.inverse_transform(pred).ravel()\n",
    "pred = 10 ** pred"
   ]
  },
  {
   "cell_type": "code",
   "execution_count": null,
   "metadata": {},
   "outputs": [],
   "source": [
    "from collections import namedtuple\n",
    "from operator import attrgetter\n",
    "Valuation = namedtuple(\"Valuation\", 'true, pred, multi, symbol, period, date')\n",
    "vs = []\n",
    "\n",
    "diff = pred - 10 ** labels_holdout\n",
    "plt.plot(diff)\n",
    "plt.title(\"Higher y = Buy me\")\n",
    "plt.ylabel(\"Pred - True\")\n",
    "plt.show()\n",
    "for i, d in enumerate(diff):\n",
    "    relevance = pred[i] / (10 ** labels_holdout[i])\n",
    "    if(relevance > 1.75):\n",
    "        v = Valuation(10 ** labels_holdout[i],\n",
    "                      pred[i],\n",
    "                      relevance,\n",
    "                      holdout_meta.iloc[i].symbol,\n",
    "                      holdout_meta.iloc[i].quarter,\n",
    "                      holdout_meta.iloc[i].date)\n",
    "        vs.append(v)\n",
    "        # print(f\"{d = }, {relevance = }, {pred[i] = }, {10 ** labels_holdout[i] = }\\n, {holdout_meta.iloc[i].to_string()}\\n\\n\")\n",
    "vs.sort(key = attrgetter(\"multi\"), reverse = True)\n",
    "for v in vs:\n",
    "    print(v)\n",
    "print(vs)"
   ]
  }
 ],
 "metadata": {
  "kernelspec": {
   "display_name": "Python 3.10.6 64-bit",
   "language": "python",
   "name": "python3"
  },
  "language_info": {
   "codemirror_mode": {
    "name": "ipython",
    "version": 3
   },
   "file_extension": ".py",
   "mimetype": "text/x-python",
   "name": "python",
   "nbconvert_exporter": "python",
   "pygments_lexer": "ipython3",
   "version": "3.10.6"
  },
  "orig_nbformat": 4,
  "vscode": {
   "interpreter": {
    "hash": "b0fa6594d8f4cbf19f97940f81e996739fb7646882a419484c72d19e05852a7e"
   }
  }
 },
 "nbformat": 4,
 "nbformat_minor": 2
}
