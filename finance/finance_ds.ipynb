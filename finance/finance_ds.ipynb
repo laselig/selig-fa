{
 "cells": [
  {
   "cell_type": "code",
   "execution_count": null,
   "metadata": {
    "pycharm": {
     "name": "#%%\n"
    }
   },
   "outputs": [],
   "source": [
    "import numpy as np\n",
    "import pandas as pd\n",
    "import seaborn as sns\n",
    "import matplotlib.pyplot as plt\n",
    "import glob, os, random\n",
    "from pathlib import Path\n",
    "from sklearn.model_selection import train_test_split\n",
    "from sklearn.neighbors import NearestCentroid\n",
    "from sklearn.metrics import classification_report\n",
    "from sklearn.linear_model import LogisticRegression\n",
    "from scipy.signal import savgol_filter\n",
    "from scipy import interpolate\n",
    "from sklearn.preprocessing import StandardScaler\n",
    "from sklearn.decomposition import PCA\n",
    "np.random.seed( 0 )\n",
    "sns.set_style( \"darkgrid\" )\n"
   ]
  },
  {
   "cell_type": "code",
   "execution_count": null,
   "metadata": {},
   "outputs": [],
   "source": [
    "df = pd.read_parquet(\"/Users/lselig/selig-sandbox/finance/.data/fundamental_analysis_neglog.parquet\")\n",
    "df = df[(df.period == \"Q2\") & (df.calendarYear == \"2022\")]\n",
    "tickers = df.symbol.values\n",
    "periods = df.period.values\n",
    "calendarYears = df.calendarYear.values\n",
    "qualitative_data = np.array((tickers, periods, calendarYears)).T\n",
    "df = df.drop(columns = [\"period\", \"calendarYear\", \"symbol\", \"acceptedDate\"])"
   ]
  },
  {
   "cell_type": "code",
   "execution_count": null,
   "metadata": {},
   "outputs": [],
   "source": [
    "features = np.array(df)\n",
    "scaler = StandardScaler()\n",
    "features =  scaler.fit_transform(features)\n",
    "features = np.clip(features, -5, 5)\n",
    "print(features.shape)\n",
    "%matplotlib widget \n",
    "# for f in features:\n",
    "#     print(np.nanmin(f), np.nanmax(f))\n",
    "#     sns.kdeplot(f)\n",
    "# plt.title(\"Distribution of final features\")\n"
   ]
  },
  {
   "cell_type": "code",
   "execution_count": null,
   "metadata": {},
   "outputs": [],
   "source": [
    "pca = PCA(n_components=2)\n",
    "pca.fit(features.T)\n",
    "# print(pca.explained_variance_ratio_)\n",
    "# print(np.sum(pca.explained_variance_ratio_))\n",
    "# print(pca.singular_values_)\n",
    "# print(components)\n",
    "# plt.hist2d(components[:, 0], components[:, 1], bins = 50)\n",
    "components = pca.components_.T\n",
    "print(components.shape)\n",
    "# components[0,:]\n",
    "plt.close()\n",
    "plt.hist2d(components[:, 0], components[:, 1], bins = 60)\n",
    "plt.show()\n",
    "# plt.show()"
   ]
  },
  {
   "cell_type": "code",
   "execution_count": null,
   "metadata": {},
   "outputs": [],
   "source": [
    "from sklearn.cluster import KMeans\n",
    "from sklearn.cluster import AffinityPropagation\n",
    "\n",
    "clst = KMeans(n_clusters=3, random_state=0).fit(components)\n",
    "# clst = AffinityPropagation( random_state=0).fit(components)\n",
    "labels = clst.labels_.reshape(-1, 1)\n",
    "pca_and_labels = np.hstack((components, labels))\n",
    "print(pca_and_labels.shape)\n",
    "clst.labels_.shape\n",
    "fig, axs = plt.subplots(1, 2, figsize = (12, 8))\n",
    "for g in np.unique(labels):\n",
    "    idxs = np.where(pca_and_labels[:, 2] == g)[0]\n",
    "    cluster = pca_and_labels[idxs]\n",
    "    for i, c in enumerate(cluster):\n",
    "        print(c[0], c[1], qualitative_data[:, 0][idxs[i]])\n",
    "        axs[0].text(c[0], c[1], s = qualitative_data[:, 0][idxs[i]])\n",
    "    axs[0].scatter(cluster[:, 0],  cluster[:, 1], label = g)\n",
    "axs[0].set_xlabel(\"PCA1\")\n",
    "axs[0].set_ylabel(\"PCA2\")\n",
    "axs[1].hist2d(pca_and_labels[:, 0], pca_and_labels[:, 1], bins = 40)\n",
    "axs[1].set_xlabel(\"PCA1\")\n",
    "axs[1].set_ylabel(\"PCA2\")\n",
    "axs[0].legend()\n",
    "plt.show()\n",
    "\n",
    "    \n",
    "# plt.scatter(pca_and_labels[:, 0], pca_and_labels[: ,1], group = )\n",
    "# plt.close()\n",
    "# plt.hist(kmeans.labels_)\n",
    "# plt.show()\n"
   ]
  },
  {
   "cell_type": "code",
   "execution_count": null,
   "metadata": {},
   "outputs": [],
   "source": [
    "# the tickers where PCA2 is an outlier are all related to Federal National Mortgage Association (FNMA)\n",
    "# not sure if it can be exploited\n",
    "interesting = np.argwhere(pca_and_labels[: ,1] >= 0.08)\n",
    "interesting_tickers = tickers[interesting]\n",
    "# print(interesting_tickers)\n",
    "\n",
    "interesting = np.argwhere(pca_and_labels[: ,1] <= -0.0365)\n",
    "interesting_tickers = tickers[interesting]\n",
    "print(interesting_tickers)"
   ]
  },
  {
   "cell_type": "code",
   "execution_count": null,
   "metadata": {},
   "outputs": [],
   "source": [
    "\n",
    "interesting = np.argwhere(pca_and_labels[: ,0] >= 0.0055)\n",
    "interesting_tickers = qualitative_data[interesting]\n",
    "print(interesting_tickers)"
   ]
  },
  {
   "cell_type": "code",
   "execution_count": null,
   "metadata": {},
   "outputs": [],
   "source": []
  }
 ],
 "metadata": {
  "kernelspec": {
   "display_name": "Python 3.8.13 ('.venv': poetry)",
   "language": "python",
   "name": "python3"
  },
  "language_info": {
   "codemirror_mode": {
    "name": "ipython",
    "version": 3
   },
   "file_extension": ".py",
   "mimetype": "text/x-python",
   "name": "python",
   "nbconvert_exporter": "python",
   "pygments_lexer": "ipython3",
   "version": "3.8.13"
  },
  "orig_nbformat": 4,
  "vscode": {
   "interpreter": {
    "hash": "b96f3654378ba0b8498ffb89399d4dcde734f424d2ac12772b193d81f8683b82"
   }
  }
 },
 "nbformat": 4,
 "nbformat_minor": 2
}
