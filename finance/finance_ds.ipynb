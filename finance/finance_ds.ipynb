{
 "cells": [
  {
   "cell_type": "code",
   "execution_count": 1,
   "metadata": {
    "pycharm": {
     "name": "#%%\n"
    }
   },
   "outputs": [],
   "source": [
    "import numpy as np\n",
    "import pandas as pd\n",
    "import seaborn as sns\n",
    "import matplotlib.pyplot as plt\n",
    "import glob, os, random\n",
    "from pathlib import Path\n",
    "from sklearn.model_selection import train_test_split\n",
    "from sklearn.neighbors import NearestCentroid\n",
    "from sklearn.metrics import classification_report\n",
    "from sklearn.linear_model import LogisticRegression\n",
    "from scipy.signal import savgol_filter\n",
    "from scipy import interpolate\n",
    "from sklearn.preprocessing import StandardScaler\n",
    "from sklearn.decomposition import PCA\n",
    "np.random.seed( 0 )\n",
    "sns.set_style( \"darkgrid\" )\n"
   ]
  },
  {
   "cell_type": "code",
   "execution_count": null,
   "metadata": {},
   "outputs": [],
   "source": []
  },
  {
   "cell_type": "code",
   "execution_count": 36,
   "metadata": {},
   "outputs": [
    {
     "name": "stdout",
     "output_type": "stream",
     "text": [
      "Index(['symbol', 'calendarYear', 'period', 'revenue', 'costOfRevenue',\n",
      "       'grossProfit', 'grossProfitRatio', 'researchAndDevelopmentExpenses',\n",
      "       'generalAndAdministrativeExpenses', 'sellingAndMarketingExpenses',\n",
      "       ...\n",
      "       'netDebt', 'open_on', 'volume_on', 'vwap_on', 'open_next', 'open_prev',\n",
      "       'volume_prev', 'vwap_prev', 'wk_curr_to_next_pct_inc',\n",
      "       'wk_prev_to_curr_pct_inc'],\n",
      "      dtype='object', length=115)\n"
     ]
    },
    {
     "ename": "TypeError",
     "evalue": "bar() missing 1 required positional argument: 'height'",
     "output_type": "error",
     "traceback": [
      "\u001b[1;31m---------------------------------------------------------------------------\u001b[0m",
      "\u001b[1;31mTypeError\u001b[0m                                 Traceback (most recent call last)",
      "\u001b[1;32mc:\\Users\\lselig\\selig-fa\\finance\\finance_ds.ipynb Cell 3\u001b[0m in \u001b[0;36m<cell line: 12>\u001b[1;34m()\u001b[0m\n\u001b[0;32m     <a href='vscode-notebook-cell:/c%3A/Users/lselig/selig-fa/finance/finance_ds.ipynb#W2sZmlsZQ%3D%3D?line=9'>10</a>\u001b[0m targets_binary \u001b[39m=\u001b[39m np\u001b[39m.\u001b[39marray(targets_binary, dtype \u001b[39m=\u001b[39m \u001b[39m\"\u001b[39m\u001b[39mint\u001b[39m\u001b[39m\"\u001b[39m)\n\u001b[0;32m     <a href='vscode-notebook-cell:/c%3A/Users/lselig/selig-fa/finance/finance_ds.ipynb#W2sZmlsZQ%3D%3D?line=10'>11</a>\u001b[0m plt\u001b[39m.\u001b[39mclose()\n\u001b[1;32m---> <a href='vscode-notebook-cell:/c%3A/Users/lselig/selig-fa/finance/finance_ds.ipynb#W2sZmlsZQ%3D%3D?line=11'>12</a>\u001b[0m plt\u001b[39m.\u001b[39;49mbar(targets_binary)\n\u001b[0;32m     <a href='vscode-notebook-cell:/c%3A/Users/lselig/selig-fa/finance/finance_ds.ipynb#W2sZmlsZQ%3D%3D?line=12'>13</a>\u001b[0m plt\u001b[39m.\u001b[39mshow()\n\u001b[0;32m     <a href='vscode-notebook-cell:/c%3A/Users/lselig/selig-fa/finance/finance_ds.ipynb#W2sZmlsZQ%3D%3D?line=15'>16</a>\u001b[0m \u001b[39mprint\u001b[39m(targets_binary)\n",
      "\u001b[1;31mTypeError\u001b[0m: bar() missing 1 required positional argument: 'height'"
     ]
    }
   ],
   "source": [
    "df = pd.read_parquet('C:/Users/lselig/selig-fa/finance/.data/fundamental_analysis_neglog.parquet')\n",
    "df = df[(df.period == \"Q2\") & (df.calendarYear == \"2022\")]\n",
    "print(df.columns)\n",
    "df.replace([np.inf, -np.inf], np.nan, inplace = True)\n",
    "df.dropna(axis=0, inplace = True)\n",
    "df = df.drop_duplicates()\n",
    "targets = df.wk_curr_to_next_pct_inc.values\n",
    "\n",
    "targets_binary = targets >= 1.0 # bools\n",
    "targets_binary = np.array(targets_binary, dtype = \"int\")\n",
    "plt.close()\n",
    "plt.bar(targets_binary)\n",
    "plt.show()\n",
    "\n",
    "\n",
    "print(targets_binary)\n",
    "tickers = df.symbol.values\n",
    "periods = df.period.values\n",
    "calendarYears = df.calendarYear.values\n",
    "date = df.date.values\n",
    "qualitative_data = np.array((tickers, periods, calendarYears, date)).T\n",
    "df = df.drop(columns = [\"period\", \"calendarYear\", \"symbol\", \"date\", \"open_next\", \"wk_curr_to_next_pct_inc\"])\n",
    "features = df.to_numpy()\n",
    "print(targets.shape, features.shape)"
   ]
  },
  {
   "cell_type": "code",
   "execution_count": null,
   "metadata": {},
   "outputs": [],
   "source": [
    "scaler = StandardScaler()\n",
    "features =  scaler.fit_transform(features)\n",
    "features = np.clip(features, -5, 5)\n",
    "print(features.shape)\n",
    "n_features = features.shape[1]\n",
    "print(n_features)\n",
    "%matplotlib widget \n",
    "for i in range(n_features):\n",
    "    print(i, np.nanmin(features[:, i]), np.nanmax(features[:, i]))\n",
    "    sns.kdeplot(features[:, i])\n",
    "plt.title(\"Distribution of final features\")"
   ]
  },
  {
   "cell_type": "code",
   "execution_count": null,
   "metadata": {},
   "outputs": [],
   "source": [
    "print(list(df))\n",
    "print(features.shape, targets.shape)\n"
   ]
  },
  {
   "cell_type": "code",
   "execution_count": null,
   "metadata": {},
   "outputs": [],
   "source": [
    "pca = PCA(n_components=2)\n",
    "pca.fit(features.T)\n",
    "print(pca.explained_variance_ratio_)\n",
    "print(np.sum(pca.explained_variance_ratio_))\n",
    "# print(pca.singular_values_)\n",
    "# print(components)\n",
    "# plt.hist2d(components[:, 0], components[:, 1], bins = 50)\n",
    "components = pca.components_.T\n",
    "print(components.shape)\n",
    "# components[0,:]\n",
    "plt.close()\n",
    "plt.hist2d(components[:, 0], components[:, 1], bins = 60)\n",
    "plt.show()\n",
    "# plt.show()"
   ]
  },
  {
   "cell_type": "code",
   "execution_count": null,
   "metadata": {},
   "outputs": [],
   "source": [
    "from sklearn.cluster import KMeans\n",
    "from sklearn.cluster import AffinityPropagation\n",
    "\n",
    "clst = KMeans(n_clusters=3, random_state=0).fit(components)\n",
    "# clst = AffinityPropagation( random_state=0).fit(components)\n",
    "labels = clst.labels_.reshape(-1, 1)\n",
    "pca_and_labels = np.hstack((components, labels))\n",
    "print(pca_and_labels.shape)\n",
    "clst.labels_.shape\n",
    "fig, axs = plt.subplots(1, 2, figsize = (12, 8))\n",
    "for g in np.unique(labels):\n",
    "    idxs = np.where(pca_and_labels[:, 2] == g)[0]\n",
    "    cluster = pca_and_labels[idxs]\n",
    "    for i, c in enumerate(cluster):\n",
    "        print(c[0], c[1], qualitative_data[:, 0][idxs[i]])\n",
    "        axs[0].text(c[0], c[1], s = qualitative_data[:, 0][idxs[i]])\n",
    "    axs[0].scatter(cluster[:, 0],  cluster[:, 1], label = g)\n",
    "axs[0].set_xlabel(\"PCA1\")\n",
    "axs[0].set_ylabel(\"PCA2\")\n",
    "axs[1].hist2d(pca_and_labels[:, 0], pca_and_labels[:, 1], bins = 40)\n",
    "axs[1].set_xlabel(\"PCA1\")\n",
    "axs[1].set_ylabel(\"PCA2\")\n",
    "axs[0].legend()\n",
    "plt.show()\n",
    "\n",
    "    \n",
    "# plt.scatter(pca_and_labels[:, 0], pca_and_labels[: ,1], group = )\n",
    "# plt.close()\n",
    "# plt.hist(kmeans.labels_)\n",
    "# plt.show()\n"
   ]
  },
  {
   "cell_type": "code",
   "execution_count": null,
   "metadata": {},
   "outputs": [],
   "source": [
    "# the tickers where PCA2 is an outlier are all related to Federal National Mortgage Association (FNMA)\n",
    "# not sure if it can be exploited\n",
    "interesting = np.argwhere(pca_and_labels[: ,1] >= 0.08)\n",
    "interesting_tickers = tickers[interesting]\n",
    "# print(interesting_tickers)\n",
    "\n",
    "interesting = np.argwhere(pca_and_labels[: ,1] <= -0.0365)\n",
    "interesting_tickers = tickers[interesting]\n",
    "print(interesting_tickers)"
   ]
  },
  {
   "cell_type": "code",
   "execution_count": null,
   "metadata": {},
   "outputs": [],
   "source": [
    "\n",
    "interesting = np.argwhere(pca_and_labels[: ,0] >= 0.0055)\n",
    "interesting_tickers = qualitative_data[interesting]\n",
    "print(interesting_tickers)\n"
   ]
  },
  {
   "cell_type": "code",
   "execution_count": 2,
   "metadata": {},
   "outputs": [
    {
     "ename": "NameError",
     "evalue": "name 'n_features' is not defined",
     "output_type": "error",
     "traceback": [
      "\u001b[1;31m---------------------------------------------------------------------------\u001b[0m",
      "\u001b[1;31mNameError\u001b[0m                                 Traceback (most recent call last)",
      "\u001b[1;32mc:\\Users\\lselig\\selig-fa\\finance\\finance_ds.ipynb Cell 10\u001b[0m in \u001b[0;36m<cell line: 10>\u001b[1;34m()\u001b[0m\n\u001b[0;32m      <a href='vscode-notebook-cell:/c%3A/Users/lselig/selig-fa/finance/finance_ds.ipynb#X12sZmlsZQ%3D%3D?line=7'>8</a>\u001b[0m \u001b[39m# good = np.where(targets <= 100)[0]\u001b[39;00m\n\u001b[0;32m      <a href='vscode-notebook-cell:/c%3A/Users/lselig/selig-fa/finance/finance_ds.ipynb#X12sZmlsZQ%3D%3D?line=8'>9</a>\u001b[0m corrs \u001b[39m=\u001b[39m [] \n\u001b[1;32m---> <a href='vscode-notebook-cell:/c%3A/Users/lselig/selig-fa/finance/finance_ds.ipynb#X12sZmlsZQ%3D%3D?line=9'>10</a>\u001b[0m \u001b[39mfor\u001b[39;00m i \u001b[39min\u001b[39;00m \u001b[39mrange\u001b[39m(n_features):\n\u001b[0;32m     <a href='vscode-notebook-cell:/c%3A/Users/lselig/selig-fa/finance/finance_ds.ipynb#X12sZmlsZQ%3D%3D?line=10'>11</a>\u001b[0m     f \u001b[39m=\u001b[39m features[:, i]\n\u001b[0;32m     <a href='vscode-notebook-cell:/c%3A/Users/lselig/selig-fa/finance/finance_ds.ipynb#X12sZmlsZQ%3D%3D?line=11'>12</a>\u001b[0m     t \u001b[39m=\u001b[39m targets\n",
      "\u001b[1;31mNameError\u001b[0m: name 'n_features' is not defined"
     ]
    }
   ],
   "source": [
    "from sklearn.linear_model import LinearRegression\n",
    "from sklearn.metrics import mean_absolute_error, r2_score\n",
    "from sklearn.model_selection import train_test_split\n",
    "from sklearn.ensemble import RandomForestClassifier\n",
    "from sklearn.metrics import classification_report\n",
    "\n",
    "plt.close()\n",
    "# good = np.where(targets <= 100)[0]\n",
    "corrs = [] \n",
    "for i in range(n_features):\n",
    "    f = features[:, i]\n",
    "    t = targets\n",
    "    r = np.corrcoef(f, t)[0, 1]\n",
    "    corrs.append(r)\n",
    "\n",
    "sns.kdeplot(corrs)\n",
    "\n",
    "X_train, X_test, y_train, y_test = train_test_split(features, targets, test_size = 0.2, random_state = 42)\n",
    "print(X_train.shape, X_test.shape, y_train.shape, y_test.shape)\n",
    "\n",
    "reg = LinearRegression().fit(X_train, y_train)\n",
    "y_pred = reg.predict(X_train)\n",
    "print(mean_absolute_error(y_pred, y_train))\n",
    "print(r2_score(y_pred, y_train))\n",
    "\n"
   ]
  },
  {
   "cell_type": "code",
   "execution_count": 16,
   "metadata": {},
   "outputs": [
    {
     "data": {
      "application/vnd.jupyter.widget-view+json": {
       "model_id": "6b8ceae62b4e402f831f277816342c11",
       "version_major": 2,
       "version_minor": 0
      },
      "image/png": "[encoded data removed]",
      "text/html": [
       "\n",
       "            <div style=\"display: inline-block;\">\n",
       "                <div class=\"jupyter-widgets widget-label\" style=\"text-align: center;\">\n",
       "                    Figure\n",
       "                </div>\n",
       "                <img src='data:image/png;base64,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' width=640.0/>\n",
       "            </div>\n",
       "        "
      ],
      "text/plain": [
       "Canvas(toolbar=Toolbar(toolitems=[('Home', 'Reset original view', 'home', 'home'), ('Back', 'Back to previous …"
      ]
     },
     "metadata": {},
     "output_type": "display_data"
    },
    {
     "name": "stdout",
     "output_type": "stream",
     "text": [
      "pfcf_ratio\n",
      "pb_ratio\n",
      "ev_sales\n",
      "ev_over_ebitda\n",
      "ev_to_cash_flow\n",
      "earnings_yield\n",
      "free_cash_flow_yield\n",
      "debt_to_equity\n",
      "debt_to_assets\n",
      "current_ratio\n",
      "(8698,) (8698, 118)\n"
     ]
    }
   ],
   "source": [
    "# df = pd.read_parquet('C:/Users/lselig/selig-fa/finance/.data/fundamental_analysis_neglog.parquet')\n",
    "df = pd.read_parquet('C:/Users/lselig/selig-fa/finance/.data/fundamental_analysis.parquet')\n",
    "# df = df[(df.period == \"Q2\") & (df.calendarYear == \"2022\")]\n",
    "df = df[(df.calendarYear == \"2022\")]\n",
    "df.replace([np.inf, -np.inf], np.nan, inplace = True)\n",
    "df.dropna(axis=0, inplace = True)\n",
    "df = df.drop_duplicates()\n",
    "# targets = df.wk_curr_to_next_pct_inc.values\n",
    "targets = df.open_next.values\n",
    "# targets = df.open_prev.values\n",
    "# targets = df.open_on.values\n",
    "# targets_binary = targets >= 1.0 # bools\n",
    "# targets_binary = np.array(targets_binary, dtype = \"int\")\n",
    "tickers = df.symbol.values\n",
    "periods = df.period.values\n",
    "calendarYears = df.calendarYear.values\n",
    "date = df.date.values\n",
    "qualitative_data = np.array((tickers, periods, calendarYears, date)).T\n",
    "current_ratio = df.totalCurrentAssets / df.totalCurrentLiabilities\n",
    "df[\"share_number\"] = df.commonStock + df.preferredStock\n",
    "market_cap = (df.share_number) * df.open_on\n",
    "enterprise_value = market_cap - df.cashAndCashEquivalents + df.totalDebt\n",
    "\n",
    "ratios = [\"pe_ratio\", \"ps_ratio\", \"pcf_ratio\", \"pfcf_ratio\",\n",
    "          \"pb_ratio\", \"ev_sales\", \"ev_over_ebitda\", \"ev_to_cash_flow\",\n",
    "          \"earnings_yield\", \"free_cash_flow_yield\", \"debt_to_equity\",\n",
    "          \"debt_to_assets\", \"current_ratio\"]\n",
    "price = df.open_prev\n",
    "df[\"pe_ratio\"] = price / (df.netIncome_x / df.share_number)\n",
    "df[\"ps_ratio\"] = price / (df.revenue / df.share_number)\n",
    "df[\"pcf_ratio\"] = price / (df.operatingCashFlow / df.share_number)\n",
    "df[\"pfcf_ratio\"] = market_cap / df.freeCashFlow\n",
    "df[\"pb_ratio\"] = price  / (df.totalStockholdersEquity / df.share_number)\n",
    "df[\"ev_sales\"] = enterprise_value / df.revenue\n",
    "df[\"ev_over_ebitda\"] = enterprise_value / df.ebitda\n",
    "df[\"ev_to_cash_flow\"] = enterprise_value / df.operatingCashFlow\n",
    "df[\"earnings_yield\"] = (df.netIncome_x / df.share_number) / price\n",
    "df[\"free_cash_flow_yield\"] = df.freeCashFlow / market_cap\n",
    "df[\"debt_to_equity\"] = df.longTermDebt / df.totalStockholdersEquity\n",
    "df[\"debt_to_assets\"] = df.longTermDebt / df.totalAssets\n",
    "df[\"current_ratio\"] = df.totalCurrentAssets / df.totalCurrentLiabilities\n",
    "\n",
    "i = 7\n",
    "plt.close()\n",
    "sns.kdeplot(df[ratios[i]])\n",
    "plt.show()\n",
    "\n",
    "df = df.drop(columns = [\"vwap_on\", \"vwap_prev\", \"open_on\", \"open_prev\", \"period\",\n",
    "                        \"calendarYear\", \"symbol\", \"date\", \"open_next\", \"wk_curr_to_next_pct_inc\",\n",
    "                        \"wk_prev_to_curr_pct_inc\"])\n",
    "\n",
    "for x in df.columns[-10:]:\n",
    "    print(x)\n",
    "features = df.to_numpy()\n",
    "print(targets.shape, features.shape)"
   ]
  },
  {
   "cell_type": "code",
   "execution_count": 25,
   "metadata": {},
   "outputs": [
    {
     "name": "stdout",
     "output_type": "stream",
     "text": [
      "(6958, 104) (1740, 104) (6958,) (1740,)\n",
      "819.6352088941937\n",
      "-60.777549115936296\n",
      "[ -401.58550125 -1536.39520236  1116.16162306 ...  -840.08039607\n",
      "  -825.7737531   -555.8058981 ]\n",
      "0.0214\n",
      "-0.0126\n",
      "-0.0025\n",
      "0.0002\n",
      "-0.0088\n",
      "0.0165\n",
      "0.0252\n",
      "0.018\n",
      "0.0006\n",
      "-0.0159\n",
      "0.0116\n",
      "0.022\n",
      "0.0212\n",
      "0.0222\n",
      "0.0199\n",
      "0.0049\n",
      "0.0017\n",
      "0.0055\n",
      "0.0204\n",
      "0.0122\n",
      "0.0056\n",
      "0.011\n",
      "0.0156\n",
      "0.0055\n",
      "0.0511\n",
      "0.0523\n",
      "-0.011\n",
      "-0.0111\n",
      "0.0161\n",
      "0.0217\n",
      "-0.0011\n",
      "-0.0156\n",
      "-0.006\n",
      "-0.0189\n",
      "0.0029\n",
      "-0.006\n",
      "0.0159\n",
      "0.0089\n",
      "0.0232\n",
      "-0.019\n",
      "-0.0248\n",
      "-0.0355\n",
      "0.0361\n",
      "0.0203\n",
      "-0.0134\n",
      "-0.0231\n",
      "0.0063\n",
      "-0.0347\n",
      "-0.0031\n",
      "0.0179\n",
      "0.0176\n",
      "0.0233\n",
      "-0.0072\n",
      "0.0244\n",
      "0.0262\n",
      "0.0232\n",
      "-0.0156\n",
      "0.0244\n",
      "0.0247\n",
      "0.0213\n",
      "0.0252\n",
      "0.0192\n",
      "-0.0087\n",
      "-0.0244\n",
      "-0.0282\n",
      "0.0139\n",
      "0.0183\n",
      "0.017\n",
      "0.0151\n",
      "0.0211\n",
      "-0.0048\n",
      "-0.013\n",
      "0.0104\n",
      "0.0349\n",
      "0.0273\n",
      "0.0136\n",
      "0.0211\n",
      "0.0009\n",
      "-0.0076\n",
      "-0.0209\n",
      "0.0188\n",
      "0.0196\n",
      "-0.0036\n",
      "0.0318\n",
      "-0.0078\n",
      "0.0198\n",
      "0.0318\n",
      "-0.0122\n",
      "0.027\n",
      "-0.0037\n",
      "0.0018\n",
      "0.0225\n",
      "-0.0165\n",
      "-0.0154\n",
      "0.0142\n",
      "0.0247\n",
      "0.0191\n",
      "0.0132\n",
      "0.0273\n",
      "0.0384\n",
      "0.0191\n",
      "0.0184\n",
      "-0.013\n",
      "-0.0107\n"
     ]
    }
   ],
   "source": [
    "X_train, X_test, y_train, y_test = train_test_split(features, targets, test_size = 0.2, random_state = 42)\n",
    "print(X_train.shape, X_test.shape, y_train.shape, y_test.shape)\n",
    "\n",
    "reg = LinearRegression().fit(X_train, y_train)\n",
    "y_pred = reg.predict(X_test)\n",
    "print(mean_absolute_error(y_pred, y_test))\n",
    "print(r2_score(y_test, y_pred))\n",
    "print(y_pred)\n",
    "for i in range(features.shape[1]):\n",
    "\n",
    "    r = np.corrcoef(features[:, i], targets)[0, 1]\n",
    "    print(np.round(r, 4))\n",
    "    "
   ]
  },
  {
   "cell_type": "code",
   "execution_count": 34,
   "metadata": {},
   "outputs": [
    {
     "name": "stdout",
     "output_type": "stream",
     "text": [
      "[1 1 0 ... 1 1 0]\n",
      "[0 1 0 ... 0 0 1]\n",
      "[1 1 1 ... 1 1 1]\n",
      "              precision    recall  f1-score   support\n",
      "\n",
      "           0       0.11      1.00      0.19        45\n",
      "           1       1.00      0.66      0.79      1087\n",
      "\n",
      "    accuracy                           0.67      1132\n",
      "   macro avg       0.55      0.83      0.49      1132\n",
      "weighted avg       0.96      0.67      0.77      1132\n",
      "\n"
     ]
    }
   ],
   "source": [
    "clf = RandomForestClassifier(max_depth=4, random_state=0)\n",
    "print(targets_binary)\n",
    "X_train, X_test, y_train, y_test = train_test_split(features, targets_binary, test_size = 0.2, random_state = 42)\n",
    "print(y_train)\n",
    "clf.fit(X_train, y_train)\n",
    "y_pred = clf.predict(X_train)\n",
    "print(y_pred)\n",
    "print(classification_report(y_pred, y_train))"
   ]
  }
 ],
 "metadata": {
  "kernelspec": {
   "display_name": "Python 3.9.5 ('.venv': poetry)",
   "language": "python",
   "name": "python3"
  },
  "language_info": {
   "codemirror_mode": {
    "name": "ipython",
    "version": 3
   },
   "file_extension": ".py",
   "mimetype": "text/x-python",
   "name": "python",
   "nbconvert_exporter": "python",
   "pygments_lexer": "ipython3",
   "version": "3.9.5"
  },
  "orig_nbformat": 4,
  "vscode": {
   "interpreter": {
    "hash": "87f4a1bc75633a3ce313b337f8412d9265ee8b5e5a21bcd5bca49bf858097b07"
   }
  }
 },
 "nbformat": 4,
 "nbformat_minor": 2
}
